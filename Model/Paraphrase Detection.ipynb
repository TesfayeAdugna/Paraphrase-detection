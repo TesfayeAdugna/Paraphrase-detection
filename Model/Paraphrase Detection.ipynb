{
 "cells": [
  {
   "cell_type": "code",
   "execution_count": 1,
   "metadata": {
    "_cell_guid": "79c7e3d0-c299-4dcb-8224-4455121ee9b0",
    "_uuid": "d629ff2d2480ee46fbb7e2d37f6b5fab8052498a"
   },
   "outputs": [],
   "source": [
    "#z import!\n",
    "import numpy as np \n",
    "import pandas as pd \n",
    "import os\n",
    "\n",
    "import tensorflow as tf\n",
    "from sklearn.feature_extraction.text import CountVectorizer\n",
    "from keras.preprocessing.text import Tokenizer\n",
    "from keras.preprocessing.sequence import pad_sequences\n",
    "from keras.models import Model\n",
    "from keras.callbacks import EarlyStopping,ModelCheckpoint,ReduceLROnPlateau\n",
    "\n",
    "\n",
    "from keras.layers import Dense, Embedding, LSTM, Input, Lambda\n",
    "from sklearn.model_selection import train_test_split\n",
    "from keras.utils import to_categorical \n",
    "\n",
    "import keras.backend as K\n",
    "from keras.optimizers import Adadelta\n",
    "import re"
   ]
  },
  {
   "cell_type": "markdown",
   "metadata": {},
   "source": [
    "**Loading Training Data**\n",
    "\n",
    "The training data is loaded from the 'train.csv' file using Pandas. The dataset is then displayed to provide a quick overview of the initial rows.\n"
   ]
  },
  {
   "cell_type": "code",
   "execution_count": 2,
   "metadata": {},
   "outputs": [
    {
     "name": "stdout",
     "output_type": "stream",
     "text": [
      "shape(16000, 4)\n"
     ]
    },
    {
     "data": {
      "text/html": [
       "<div>\n",
       "<style scoped>\n",
       "    .dataframe tbody tr th:only-of-type {\n",
       "        vertical-align: middle;\n",
       "    }\n",
       "\n",
       "    .dataframe tbody tr th {\n",
       "        vertical-align: top;\n",
       "    }\n",
       "\n",
       "    .dataframe thead th {\n",
       "        text-align: right;\n",
       "    }\n",
       "</style>\n",
       "<table border=\"1\" class=\"dataframe\">\n",
       "  <thead>\n",
       "    <tr style=\"text-align: right;\">\n",
       "      <th></th>\n",
       "      <th>ID</th>\n",
       "      <th>Sentence1</th>\n",
       "      <th>Sentence2</th>\n",
       "      <th>Class</th>\n",
       "    </tr>\n",
       "  </thead>\n",
       "  <tbody>\n",
       "    <tr>\n",
       "      <th>0</th>\n",
       "      <td>0</td>\n",
       "      <td>But instead of returning to heaven , Annie decided to join Chris in hell forever .</td>\n",
       "      <td>But instead of returning to Heaven , Chris chooses to join Annie forever in Hell .</td>\n",
       "      <td>0</td>\n",
       "    </tr>\n",
       "    <tr>\n",
       "      <th>1</th>\n",
       "      <td>1</td>\n",
       "      <td>In 2016 , Bacardi announced new branding and plans to sell their version of Havana Club nationally , which will be burned in Florida and bottled in Puerto Rico .</td>\n",
       "      <td>In 2016 , Bacardi announced new branding and plans to sell their version of Havana Club nationally , which will be distilled in Puerto Rico and bottled in Florida .</td>\n",
       "      <td>0</td>\n",
       "    </tr>\n",
       "    <tr>\n",
       "      <th>2</th>\n",
       "      <td>2</td>\n",
       "      <td>Kweku Baako Jnr had four children . One of them , Baako is a journalist and editor of the `` New Crusading Guide '' newspaper .</td>\n",
       "      <td>Baako had four children , one of whom was Kweku Baako Jnr , a journalist and editor of the newspaper `` New Crusading Guide '' .</td>\n",
       "      <td>0</td>\n",
       "    </tr>\n",
       "    <tr>\n",
       "      <th>3</th>\n",
       "      <td>3</td>\n",
       "      <td>As with the Navy , the Army has a single-track system , where officers from other Navy communities transfer over to Foreign Area Officer permanently .</td>\n",
       "      <td>Like the army , the Navy has a single-track system , where officers from other Navy communities permanently transfer to Foreign Area Officer .</td>\n",
       "      <td>0</td>\n",
       "    </tr>\n",
       "    <tr>\n",
       "      <th>4</th>\n",
       "      <td>4</td>\n",
       "      <td>Sissi units have fewer crew served weapons and more sniper rifles than regular infantry .</td>\n",
       "      <td>Sissi units have more weapons served by the crew and fewer sniper rifles than regular infantry .</td>\n",
       "      <td>0</td>\n",
       "    </tr>\n",
       "  </tbody>\n",
       "</table>\n",
       "</div>"
      ],
      "text/plain": [
       "   ID  \\\n",
       "0   0   \n",
       "1   1   \n",
       "2   2   \n",
       "3   3   \n",
       "4   4   \n",
       "\n",
       "                                                                                                                                                           Sentence1  \\\n",
       "0                                                                                 But instead of returning to heaven , Annie decided to join Chris in hell forever .   \n",
       "1  In 2016 , Bacardi announced new branding and plans to sell their version of Havana Club nationally , which will be burned in Florida and bottled in Puerto Rico .   \n",
       "2                                    Kweku Baako Jnr had four children . One of them , Baako is a journalist and editor of the `` New Crusading Guide '' newspaper .   \n",
       "3             As with the Navy , the Army has a single-track system , where officers from other Navy communities transfer over to Foreign Area Officer permanently .   \n",
       "4                                                                          Sissi units have fewer crew served weapons and more sniper rifles than regular infantry .   \n",
       "\n",
       "                                                                                                                                                              Sentence2  \\\n",
       "0                                                                                    But instead of returning to Heaven , Chris chooses to join Annie forever in Hell .   \n",
       "1  In 2016 , Bacardi announced new branding and plans to sell their version of Havana Club nationally , which will be distilled in Puerto Rico and bottled in Florida .   \n",
       "2                                      Baako had four children , one of whom was Kweku Baako Jnr , a journalist and editor of the newspaper `` New Crusading Guide '' .   \n",
       "3                        Like the army , the Navy has a single-track system , where officers from other Navy communities permanently transfer to Foreign Area Officer .   \n",
       "4                                                                      Sissi units have more weapons served by the crew and fewer sniper rifles than regular infantry .   \n",
       "\n",
       "   Class  \n",
       "0      0  \n",
       "1      0  \n",
       "2      0  \n",
       "3      0  \n",
       "4      0  "
      ]
     },
     "execution_count": 2,
     "metadata": {},
     "output_type": "execute_result"
    }
   ],
   "source": [
    "train_data = pd.read_csv('./train.csv')\n",
    "pd.set_option('display.max_colwidth',None)\n",
    "print(f'shape{train_data.shape}')\n",
    "train_data.head()"
   ]
  },
  {
   "cell_type": "markdown",
   "metadata": {},
   "source": [
    "**Loading Test Data**\n",
    "\n",
    "The test data is loaded from the 'test.csv' file using Pandas. The dataset is then displayed to offer an initial glimpse of the data structure."
   ]
  },
  {
   "cell_type": "code",
   "execution_count": 3,
   "metadata": {},
   "outputs": [
    {
     "name": "stdout",
     "output_type": "stream",
     "text": [
      "shape(4700, 3)\n"
     ]
    },
    {
     "data": {
      "text/html": [
       "<div>\n",
       "<style scoped>\n",
       "    .dataframe tbody tr th:only-of-type {\n",
       "        vertical-align: middle;\n",
       "    }\n",
       "\n",
       "    .dataframe tbody tr th {\n",
       "        vertical-align: top;\n",
       "    }\n",
       "\n",
       "    .dataframe thead th {\n",
       "        text-align: right;\n",
       "    }\n",
       "</style>\n",
       "<table border=\"1\" class=\"dataframe\">\n",
       "  <thead>\n",
       "    <tr style=\"text-align: right;\">\n",
       "      <th></th>\n",
       "      <th>ID</th>\n",
       "      <th>Sentence1</th>\n",
       "      <th>Sentence2</th>\n",
       "    </tr>\n",
       "  </thead>\n",
       "  <tbody>\n",
       "    <tr>\n",
       "      <th>0</th>\n",
       "      <td>16000</td>\n",
       "      <td>How do I increase the rank on my website in SEO?</td>\n",
       "      <td>What are some tips on how to increase rank in search engines?</td>\n",
       "    </tr>\n",
       "    <tr>\n",
       "      <th>1</th>\n",
       "      <td>16001</td>\n",
       "      <td>I'm a boy. I masturbate. I'm 13. Is it bad to masturbate?</td>\n",
       "      <td>Why do I masturbate when I'm stressed?</td>\n",
       "    </tr>\n",
       "    <tr>\n",
       "      <th>2</th>\n",
       "      <td>16002</td>\n",
       "      <td>The fourth season was premiered on 7 June 2010 , and like the third season was the system of competition for mixed couples .</td>\n",
       "      <td>The third season was premiered on June 7 , 2010 . Like the fourth season the system of the competition was in mixed couples .</td>\n",
       "    </tr>\n",
       "    <tr>\n",
       "      <th>3</th>\n",
       "      <td>16003</td>\n",
       "      <td>In 2003 , he moved to London and lived there for sixteen months before returning to South Africa in September 2004 .</td>\n",
       "      <td>He moved to South Africa in 2003 and lived there 16 months before returning to London in September 2004 .</td>\n",
       "    </tr>\n",
       "    <tr>\n",
       "      <th>4</th>\n",
       "      <td>16004</td>\n",
       "      <td>Shawn told Shawn that his mother was not dead and his father was still married and on the day of the wedding of Colleen and Santo , Shawn told Colleen .</td>\n",
       "      <td>Stefano told Shawn that his mother was not dead and his father was still married and on the day of Colleen and Santo 's wedding , Shawn told Colleen .</td>\n",
       "    </tr>\n",
       "  </tbody>\n",
       "</table>\n",
       "</div>"
      ],
      "text/plain": [
       "      ID  \\\n",
       "0  16000   \n",
       "1  16001   \n",
       "2  16002   \n",
       "3  16003   \n",
       "4  16004   \n",
       "\n",
       "                                                                                                                                                  Sentence1  \\\n",
       "0                                                                                                          How do I increase the rank on my website in SEO?   \n",
       "1                                                                                                I'm a boy. I masturbate. I'm 13. Is it bad to masturbate?    \n",
       "2                              The fourth season was premiered on 7 June 2010 , and like the third season was the system of competition for mixed couples .   \n",
       "3                                      In 2003 , he moved to London and lived there for sixteen months before returning to South Africa in September 2004 .   \n",
       "4  Shawn told Shawn that his mother was not dead and his father was still married and on the day of the wedding of Colleen and Santo , Shawn told Colleen .   \n",
       "\n",
       "                                                                                                                                                Sentence2  \n",
       "0                                                                                           What are some tips on how to increase rank in search engines?  \n",
       "1                                                                                                                  Why do I masturbate when I'm stressed?  \n",
       "2                           The third season was premiered on June 7 , 2010 . Like the fourth season the system of the competition was in mixed couples .  \n",
       "3                                               He moved to South Africa in 2003 and lived there 16 months before returning to London in September 2004 .  \n",
       "4  Stefano told Shawn that his mother was not dead and his father was still married and on the day of Colleen and Santo 's wedding , Shawn told Colleen .  "
      ]
     },
     "execution_count": 3,
     "metadata": {},
     "output_type": "execute_result"
    }
   ],
   "source": [
    "test_data = pd.read_csv('./test.csv')\n",
    "pd.set_option('display.max_colwidth',None)\n",
    "print(f'shape{test_data.shape}')\n",
    "test_data.head()"
   ]
  },
  {
   "cell_type": "markdown",
   "metadata": {},
   "source": [
    "**Extracting Training Sentences (Column 1)**\n",
    "\n",
    "The sentences from the first column of the training data are extracted and stored in the 'train_1' list. This list is then displayed using the print function, providing a sample of the sentences in the first column.\n"
   ]
  },
  {
   "cell_type": "code",
   "execution_count": 8,
   "metadata": {},
   "outputs": [
    {
     "name": "stdout",
     "output_type": "stream",
     "text": [
      "['But instead of returning to heaven , Annie decided to join Chris in hell forever .', 'In 2016 , Bacardi announced new branding and plans to sell their version of Havana Club nationally , which will be burned in Florida and bottled in Puerto Rico .', \"Kweku Baako Jnr had four children . One of them , Baako is a journalist and editor of the `` New Crusading Guide '' newspaper .\", 'As with the Navy , the Army has a single-track system , where officers from other Navy communities transfer over to Foreign Area Officer permanently .', 'Sissi units have fewer crew served weapons and more sniper rifles than regular infantry .', 'However , the United States later forced other nations and American companies to restrict trade with Cuba with foreign subsidiaries .', 'Deutsche Bahn opened a new underground tunnel to the new railway station Filderstadt on 29 September 2001 .', 'Some Hebrew and Aramaic abbreviations may not be included here ; more may be found in the List of Hebrew abbreviations and the List of Aramaic abbreviations , respectively .', \"`` Yesteryear '' is the first episode of the second season of animated American science - fiction - television series .\", 'Principal photography took place in additional installments between July 2016 and October 2016 with small pick-up days in December 2016 and January 2017 .']\n"
     ]
    }
   ],
   "source": [
    "train_1 = train_data.iloc[:,1]\n",
    "train_1 = list(train_1)\n",
    "print(train_1[:10])"
   ]
  },
  {
   "cell_type": "markdown",
   "metadata": {},
   "source": [
    "**Extracting Training Sentences (Column 2)**\n",
    "\n",
    "Similarly, sentences from the second column of the training data are extracted and stored in the 'train_2' list. The content of this list is displayed using the print function, presenting a sample of sentences from the second column.\n"
   ]
  },
  {
   "cell_type": "code",
   "execution_count": 9,
   "metadata": {},
   "outputs": [
    {
     "name": "stdout",
     "output_type": "stream",
     "text": [
      "['But instead of returning to Heaven , Chris chooses to join Annie forever in Hell .', 'In 2016 , Bacardi announced new branding and plans to sell their version of Havana Club nationally , which will be distilled in Puerto Rico and bottled in Florida .', \"Baako had four children , one of whom was Kweku Baako Jnr , a journalist and editor of the newspaper `` New Crusading Guide '' .\", 'Like the army , the Navy has a single-track system , where officers from other Navy communities permanently transfer to Foreign Area Officer .', 'Sissi units have more weapons served by the crew and fewer sniper rifles than regular infantry .', 'However , the United States later pressured other nations and foreign companies with American subsidiaries to restrict trade with Cuba .', 'On 29 September 2001 , Deutsche Bahn opened a new tunnel to the new Filderstadt U-Bahn ( underground ) station .', 'Some Hebrew and Aramaic abbreviations may not be included here , and others may be found in the list of Hebrew abbreviations or in the list of Aramaic abbreviations .', \"`` Yesteryear '' is the second episode of the first season of the animated American Science - Fiction - TV series .\", 'Principal - Photography took place between July 2016 and October 2016 in small installments with additional collection dates in December 2016 and January 2017 .']\n"
     ]
    }
   ],
   "source": [
    "train_2 = train_data.iloc[:,2]\n",
    "train_2 = list(train_2)\n",
    "print(train_2[:10])"
   ]
  },
  {
   "cell_type": "code",
   "execution_count": 10,
   "metadata": {
    "scrolled": true
   },
   "outputs": [
    {
     "name": "stdout",
     "output_type": "stream",
     "text": [
      "['But instead of returning to heaven , Annie decided to join Chris in hell forever .', 'In 2016 , Bacardi announced new branding and plans to sell their version of Havana Club nationally , which will be burned in Florida and bottled in Puerto Rico .', \"Kweku Baako Jnr had four children . One of them , Baako is a journalist and editor of the `` New Crusading Guide '' newspaper .\", 'As with the Navy , the Army has a single-track system , where officers from other Navy communities transfer over to Foreign Area Officer permanently .', 'Sissi units have fewer crew served weapons and more sniper rifles than regular infantry .', 'However , the United States later forced other nations and American companies to restrict trade with Cuba with foreign subsidiaries .', 'Deutsche Bahn opened a new underground tunnel to the new railway station Filderstadt on 29 September 2001 .', 'Some Hebrew and Aramaic abbreviations may not be included here ; more may be found in the List of Hebrew abbreviations and the List of Aramaic abbreviations , respectively .', \"`` Yesteryear '' is the first episode of the second season of animated American science - fiction - television series .\", 'Principal photography took place in additional installments between July 2016 and October 2016 with small pick-up days in December 2016 and January 2017 .', 'It connects Kumarakom and Cochin to the north and Quilon in the south .', \"What's more, Mr. O'Neill said that he hoped Hyundai would sell one million vehicles annually in the United States by 2010.\", 'The River Timiş is a tributary of the River Zlagna in Romania .', 'Since then, police divers have searched nearby parts of Long Island Sound looking for the remaining three.', 'Why is the Navy and Air Force of the United Kingdom \"Royal\" and the Army is not?', 'The series was the Rowohlt publishing house published a novel by Patrick Niessen .', 'A barometer and a built-in scale are shown in this room .', 'Some of the municipal water supply infrastructure which provides water to bulk and state water companies is owned directly by HIDROVEN and its affiliated regional companies .', 'The Communist Party of Pakistan was registered under Article 17 of the Constitution of Pakistan in 1973 , as reported vide .', 'Rose Tattoo is a 2011 album by Tiffany , her eighth regular album and first full country record .', 'Later they moved to Dhaka and lived there for a couple of years until they moved to Khulna .', 'Belson as Visual Director programmed live kinetic visuals and Jacobs programmed electronic music and audio experiments .', 'These dioceses had indirect election of three members , direct election of four members :', 'Prosecutors said the investment was a breach of duty and resulted in the pension fund immediately losing $1 million.', 'The Repedea River is a tributary of the Groșetu River in Romania .', 'Peter Mortimer , his elder brother Steve Mortimer and his younger brother , Chris Mortimer , played together in four grand finals .', \"Robert Edward Turner 's son , Ted Turner , inherited the company when the elder Turner died in 1963 .\", 'Despite the advantages of mini effects , FAB effects are more fragile : the mini effects are less common , but the plastic construction makes them expensive .', 'The house was bought in 1858 by Sir George Dewhurst of Dunira , who sold it to David Dundas of Lymm , Cheshire in 1864 .', 'Billboard wrote about the song : `` You know the beat , now catch the groove .', 'The head of the college is Danny Hubball and the assistant is Steve Marshall .', 'It can be a single object , a group of objects , a specific environment , the entire system , etc .', 'What is difference between a bushing and a bearing?', 'What is the best gift you ever received?', 'A rebel who was captured said more than 2,000 insurgents were involved in the attack.', 'The technology-laced Nasdaq Composite Index <.IXIC> declined 25.78 points, or 1.56 percent, to 1,627.84.', 'When will Dragon Ball Super release in English dubbed?', 'In 1813 he won the first Prix de Rome for painting and in 1814 the second Prix de Rome for his paintings of the `` death of the Diagora .', 'What is the difference between a government servant and a public servant?', 'The 1980 Atlanta Braves season was the 15th season in Atlanta together with the 110th season as a franchise .', 'The references to New Orleans were changed to Las Vegas , a reference to the negative effects of gambling in Sin City .', 'The Bresnic River is a tributary of the River Slatina in Romania .', 'What are the World records and Olympic records that are broken in Rio Olympics 2016?', \"In 2007 , Harte temporarily took over the role of Dr. Michael McBain for Nathaniel Marston in ABC - Soap `` One Life to Live '' .\", \"Black Bull Bitter ( `` 3.9 % ABV '' ) was brewed to commemorate the first pub of Theakson , where the first Theakston 's beers were brewed and sold .\", 'The most important use of phosphorous acid ( basic lead acid ) is the production of phosphorous phosphite , which is a stabilizer in PVC and related chlorinated polymers .', 'How can I have massive arms and big biceps?', \"What is the difference between Apple's Mac and Windows?\", 'He married Lady Florence Jane Taylour , daughter of Thomas Taylour , 3rd Marquess of Headfort and Amelia Thompson , on 5 August 1875 .', \"Do Jewish people like Richard Wagner's music?\", 'He studied music history at the University of Vienna under Hans Gál , and studied composition under Guido Adler and Curt Sachs .', 'Traditionally , Drumgoon has always worn a yellow jersey , shorts and socks with a blue trim .', \"On 28 January 2015 , John Carver was brought into Watson 's backroom team at Newcastle United for the remaining 16 games of the 2014/15 season .\", 'It now features modern high-rise buildings , new shopping areas , a large contemporary Metra train station , and several new retail and service facilities .', 'The port of Los Cristianos ( Tenerife ) has the greatest number of passengers in the Canary Islands , followed by the port of Santa Cruz de Tenerife .', 'The Predator has been licensed for sale to Egypt , Morocco , Saudi Arabia and the UAE .', 'The seventh person charged in the case - Habis Abdu al Saoub - remains at large.', 'Kandy , originally known as Senkadagala , has been the bastion of culture and spiritual centre of Sri Lanka for centuries .', 'Part 2 was managed by Yasunori Ide and written by Manabu Nakamura .', 'Former Mangalore Station was located north of Seymour at the crossroads of North East and Shepparton lines .', 'After the first round of the duels , Bjørn Johan Muri defeated the skanksters to meet in the second round at Gaute Ormåsen , who beat Heine Totland .', 'This name refers either to the Gawler River ( which starts at the confluence of the South Para River and the North Para River ) or the Little Para River .', 'How long does ibuprofen take to work?', 'Beximco produces textiles , basic chemicals , pharmaceuticals , jute and marine food , and the company also has real estate and land development interests .', 'CJOS-FM broadcasts a Canadian radio station , that is a classic hits format at 92.3 FM in Owen Sound , Ontario .', 'The series was written by Robert Adler and is drawn by Chris Roberson .', \"The team , founded in 1906 , took the first American `` double '' when in 1912 the National Association Football League and the American Cup won .\", 'After the plastic has cooled sufficiently , the tool is ejected and the part is opened .', \"While searching for a job in embedded systems software engineering in the USA, will it help to prepare for a master's in mechtronics?\", 'In a relatively simple form , a microcapsule is a small sphere with a uniform wall around it .', 'He moved of health reasons to Santa Barbara in 1871 where he first settled in Southern California .', \"Cohen was appointed by Robert W. Edgar as a member of the President 's Council of Common Cause .\", 'While the 33d Tactical Group was inactive , it was consolidated as 33d Tactical Fighter Group with the 33d Fighter Group .', 'These were common in the United Kingdom , but in Europe , at least for large locomotives , they are relatively rare .', 'Eddie Dibbs defeated Hans Gildemeister with 6 -- 4 , 6 -- 3 , 6 -- 1 .', 'And procedural knowledge ( steps to make and which decision , when to do ) .', 'She left the Pacific in 1946 , and steamed via the Suez Canal to Norfolk , Virginia .', 'This is caused by a combination of kinetic heating ( friction ) and adiabatic compression .', 'The party is currently run by Paolo Grimoldi as national secretary and Giacomo Stucchi as national president .', 'He played for TuTo Turku and TPS , playing a season in Austria for Klagenfurter AC and four seasons in the Bundesliga for the Berliner SC .', 'Two bridges cross the river to Pental Island , to the west on Fish Point Road and to the east at Swan Hill at the Fish Point .', 'A very small part of the southwestern Red House borders the town of Great Valley .', 'He dated John F. Kennedy ( who was later to marry Jacqueline Bouvier and become the First Lady of the United States .', 'EPZ is a Thana located under the Chittagong Division , Bangladesh in the Chittagong District .', \"A generally unobtrusive survey of the American reception of Franz of Assisi , however , judged that `` is the book derivative and much later '' .\", '\"Silence is the language of god. All else is poor translation.\" What does this mean?', 'The Lockheed Martin-built SIRTF is the last of NASA\\'s Hubble-class \"Great Observatories.\"', 'Farry Island is the largest island in Long Lake in Lanark County , Eastern Ontario , Canada , in the Tay Valley municipality .', 'Girish Puthenchery wrote the text for the songs composed by Johnson .', 'Because of that, the family had kept him from the home over the objections of the grandmother, police said.', 'There is a Cornelius Grinnell bay offshore island , located in Baffin Island .', \"Carrie played the entertainment manager and Willie Garson 's gay friend Stanford Blatch .\", 'When Russ asked him to play guitar in the new band , Aaron agreed .', 'It was climbed freely and named after Bill House when he first climbed it in 1938 .', 'It opened in 1955 , shortly after new mayor Norris Poulson ended all new public housing in the city .', 'Many miners connected the rushes to Charters Towers ( 1872 ) and the Palmer River ( 1873 ) .', 'How many Singaporeans have always dreamed of getting a PhD but stopped short due to lack of resources?', 'The game was launched on 16 May when the Steam Greenlight campaign was announced .', 'The river Valea Negrenilor or Negreni River is a tributary of the river Amaradia .', 'Finally , the global stiffness matrix is built up by adding together the individual element matrices expanded .']\n"
     ]
    }
   ],
   "source": [
    "full_train = train_1 + train_2\n",
    "print(full_train[:100])"
   ]
  },
  {
   "cell_type": "markdown",
   "metadata": {},
   "source": [
    "**Text Tokenization Setup**\n",
    "\n",
    "A Tokenizer is initialized with a vocabulary size of 5000 words. It is configured to filter out specific characters, convert text to lowercase, and split text based on predefined characters. This tokenizer will be used to convert textual data into numerical sequences for further processing.\n"
   ]
  },
  {
   "cell_type": "code",
   "execution_count": 11,
   "metadata": {},
   "outputs": [],
   "source": [
    "num_words = 5000\n",
    "tokenizer = Tokenizer(num_words=num_words, filters='!\"#$%&()*+,-./:;<=>?@[\\\\]^_`{|}~\\t\\n',\n",
    "                                   lower=True,split=' ')\n"
   ]
  },
  {
   "cell_type": "markdown",
   "metadata": {},
   "source": [
    "**Tokenization on Training Data**\n",
    "\n",
    "The Tokenizer is fitted on the entire training dataset (`full_train`), extracting unique tokens and building a vocabulary. The number of unique tokens found is printed along with the dictionary mapping words to their respective indices. This information is crucial for the subsequent conversion of text data into sequences of numerical values.\n"
   ]
  },
  {
   "cell_type": "code",
   "execution_count": 12,
   "metadata": {},
   "outputs": [
    {
     "name": "stdout",
     "output_type": "stream",
     "text": [
      "Found 29964 unique tokens.\n"
     ]
    }
   ],
   "source": [
    "tokenizer.fit_on_texts(full_train)\n",
    "word_index = tokenizer.word_index\n",
    "print('Found %s unique tokens.' % len(word_index))\n",
    "# print(word_index) # print the mapping between unique word and index."
   ]
  },
  {
   "cell_type": "markdown",
   "metadata": {},
   "source": [
    "**Text to Sequence Conversion and Padding for Sentence1**\n",
    "\n",
    "The sentences from the 'Sentence1' column in the training data are converted into sequences of numerical values using the previously fitted tokenizer. The resulting sequences are then padded to a specified maximum length (`maxlen`) to ensure uniform dimensions. The printed output displays the original and padded sequences for the first sentence, providing insight into the preprocessing steps applied.\n"
   ]
  },
  {
   "cell_type": "code",
   "execution_count": 14,
   "metadata": {},
   "outputs": [
    {
     "name": "stdout",
     "output_type": "stream",
     "text": [
      "[42, 600, 4, 2279, 7, 2338, 1890, 7, 2017, 556, 2, 4210]\n",
      "Padded Sequences: \n",
      "[   0    0    0    0    0    0    0    0    0    0    0    0    0    0\n",
      "    0    0    0    0    0    0    0    0    0    0    0    0    0    0\n",
      "    0    0    0    0    0    0    0    0    0    0    0    0    0    0\n",
      "    0    0    0    0    0    0   42  600    4 2279    7 2338 1890    7\n",
      " 2017  556    2 4210]\n"
     ]
    }
   ],
   "source": [
    "X_1 = tokenizer.texts_to_sequences(train_data['Sentence1'].values)\n",
    "print(X_1[0])\n",
    "maxlen = 60\n",
    "X_1 = pad_sequences(X_1, maxlen=maxlen)\n",
    "print(\"Padded Sequences: \")\n",
    "# print(X_1)\n",
    "print(X_1[0])"
   ]
  },
  {
   "cell_type": "code",
   "execution_count": 15,
   "metadata": {},
   "outputs": [
    {
     "data": {
      "text/plain": [
       "(16000, 60)"
      ]
     },
     "execution_count": 15,
     "metadata": {},
     "output_type": "execute_result"
    }
   ],
   "source": [
    "X_1.shape"
   ]
  },
  {
   "cell_type": "markdown",
   "metadata": {},
   "source": [
    "**Text to Sequence Conversion and Padding for Sentence2**\n",
    "\n",
    "Similar to 'Sentence1', the sentences from the 'Sentence2' column in the data are converted into sequences of numerical values using the pre-fitted tokenizer. The resulting sequences are then padded to a specified maximum length (`maxlen`) to ensure uniform dimensions. The printed output displays the original and padded sequences for the first sentence, offering insight into the preprocessing steps applied to 'Sentence2'.\n"
   ]
  },
  {
   "cell_type": "code",
   "execution_count": 17,
   "metadata": {},
   "outputs": [
    {
     "name": "stdout",
     "output_type": "stream",
     "text": [
      "[42, 600, 4, 2279, 7, 556, 7, 2017, 2338, 4210, 2]\n",
      "Padded Sequences: \n",
      "[   0    0    0    0    0    0    0    0    0    0    0    0    0    0\n",
      "    0    0    0    0    0    0    0    0    0    0    0    0    0    0\n",
      "    0    0    0    0    0    0    0    0    0    0    0    0    0    0\n",
      "    0    0    0    0    0    0    0   42  600    4 2279    7  556    7\n",
      " 2017 2338 4210    2]\n"
     ]
    }
   ],
   "source": [
    "X_2 = tokenizer.texts_to_sequences(train_data['Sentence2'].values)\n",
    "print(X_2[0])\n",
    "maxlen = 60\n",
    "X_2 = pad_sequences(X_2, maxlen=maxlen)\n",
    "print(\"Padded Sequences: \")\n",
    "# print(X_2)\n",
    "print(X_2[0])"
   ]
  },
  {
   "cell_type": "code",
   "execution_count": 18,
   "metadata": {},
   "outputs": [
    {
     "data": {
      "text/plain": [
       "(16000, 60)"
      ]
     },
     "execution_count": 18,
     "metadata": {},
     "output_type": "execute_result"
    }
   ],
   "source": [
    "X_2.shape"
   ]
  },
  {
   "cell_type": "markdown",
   "metadata": {},
   "source": [
    "**Training Data Splitting**\n",
    "\n",
    "The training data is split into training and validation sets using a specified portion (`training_portion`). The labels corresponding to the sentences are extracted from the fourth column of the dataset and stored in the variable 'y'. This step is crucial for training the model and evaluating its performance on unseen data during the training process.\n"
   ]
  },
  {
   "cell_type": "code",
   "execution_count": 19,
   "metadata": {},
   "outputs": [],
   "source": [
    "training_portion = 0.8\n",
    "y = list(train_data.iloc[:,3])"
   ]
  },
  {
   "cell_type": "markdown",
   "metadata": {},
   "source": [
    "**Text Tokenization and Padding (Test Data - Sentence1)**\n",
    "\n",
    "For the test data, the sentences from 'Sentence1' are tokenized using the previously fitted tokenizer. The resulting sequences are then padded to ensure uniform length, with a maximum length specified by 'maxlen'. This processing is essential to prepare the test data for input into the trained model, maintaining consistency with the training data format.\n"
   ]
  },
  {
   "cell_type": "code",
   "execution_count": 21,
   "metadata": {},
   "outputs": [
    {
     "name": "stdout",
     "output_type": "stream",
     "text": [
      "[36, 43, 31, 851, 1, 1693, 10, 138, 1732, 2]\n",
      "Padded Sequences: \n",
      "[   0    0    0    0    0    0    0    0    0    0    0    0    0    0\n",
      "    0    0    0    0    0    0    0    0    0    0    0    0    0    0\n",
      "    0    0    0    0    0    0    0    0    0    0    0    0    0    0\n",
      "    0    0    0    0    0    0    0    0   36   43   31  851    1 1693\n",
      "   10  138 1732    2]\n"
     ]
    }
   ],
   "source": [
    "X_test1 = tokenizer.texts_to_sequences(test_data['Sentence1'].values)\n",
    "print(X_test1[0])\n",
    "maxlen = 60\n",
    "X_test1 = pad_sequences(X_test1, maxlen=maxlen)\n",
    "print(\"Padded Sequences: \")\n",
    "# print(X_test1)\n",
    "print(X_test1[0])"
   ]
  },
  {
   "cell_type": "code",
   "execution_count": 22,
   "metadata": {},
   "outputs": [
    {
     "data": {
      "text/plain": [
       "(4700, 60)"
      ]
     },
     "execution_count": 22,
     "metadata": {},
     "output_type": "execute_result"
    }
   ],
   "source": [
    "X_test1.shape"
   ]
  },
  {
   "cell_type": "markdown",
   "metadata": {},
   "source": [
    "**Text Tokenization and Padding (Test Data - Sentence2)**\n",
    "\n",
    "Similarly, for the test data, the sentences from 'Sentence2' are tokenized using the previously fitted tokenizer. The resulting sequences are then padded to ensure uniform length, with a maximum length specified by 'maxlen'. This preprocessing step ensures that the test data is formatted appropriately for input into the trained model, maintaining consistency with the training data.\n"
   ]
  },
  {
   "cell_type": "code",
   "execution_count": 23,
   "metadata": {},
   "outputs": [
    {
     "name": "stdout",
     "output_type": "stream",
     "text": [
      "[24, 18, 88, 10, 36, 7, 851, 1693, 2, 2305]\n",
      "Padded Sequences: \n",
      "[[   0    0    0 ... 1693    2 2305]\n",
      " [   0    0    0 ...   31   51 2429]\n",
      " [   0    0    0 ...    8    2 1291]\n",
      " ...\n",
      " [   0    0    0 ...   47    2  209]\n",
      " [   0    0    0 ...   10   80  551]\n",
      " [   0    0    0 ... 2004    7 2206]]\n",
      "[   0    0    0    0    0    0    0    0    0    0    0    0    0    0\n",
      "    0    0    0    0    0    0    0    0    0    0    0    0    0    0\n",
      "    0    0    0    0    0    0    0    0    0    0    0    0    0    0\n",
      "    0    0    0    0    0    0    0    0   24   18   88   10   36    7\n",
      "  851 1693    2 2305]\n"
     ]
    }
   ],
   "source": [
    "X_test2 = tokenizer.texts_to_sequences(test_data['Sentence2'].values)\n",
    "print(X_test2[0])\n",
    "maxlen = 60\n",
    "X_test2 = pad_sequences(X_test2, maxlen=maxlen)\n",
    "print(\"Padded Sequences: \")\n",
    "print(X_test2)\n",
    "print(X_test2[0])"
   ]
  },
  {
   "cell_type": "code",
   "execution_count": 24,
   "metadata": {},
   "outputs": [
    {
     "data": {
      "text/plain": [
       "(4700, 60)"
      ]
     },
     "execution_count": 24,
     "metadata": {},
     "output_type": "execute_result"
    }
   ],
   "source": [
    "X_test2.shape"
   ]
  },
  {
   "cell_type": "markdown",
   "metadata": {},
   "source": [
    "**Train-Validation Data Splitting**\n",
    "\n",
    "The training dataset is split into training and validation sets to facilitate model training and evaluation. The split is performed based on the specified 'training_portion,' ensuring a portion of the data is reserved for validation. This division allows the model to learn from the training set and assess its performance on unseen data during validation, helping to prevent overfitting and ensure generalization.\n"
   ]
  },
  {
   "cell_type": "code",
   "execution_count": 25,
   "metadata": {},
   "outputs": [],
   "source": [
    "training_size = int(len(X_1)*training_portion)\n",
    "\n",
    "X_train1 = X_1[:training_size,:]\n",
    "X_train2 = X_2[:training_size,:]\n",
    "y_train  = y[:training_size]\n",
    "X_val1   = X_1[training_size:,:]\n",
    "X_val2   = X_2[training_size:,:]\n",
    "y_val    = y[training_size:]\n"
   ]
  },
  {
   "cell_type": "code",
   "execution_count": 26,
   "metadata": {},
   "outputs": [
    {
     "name": "stdout",
     "output_type": "stream",
     "text": [
      "(12800, 60)\n",
      "(12800, 60)\n"
     ]
    },
    {
     "data": {
      "text/plain": [
       "12800"
      ]
     },
     "execution_count": 26,
     "metadata": {},
     "output_type": "execute_result"
    }
   ],
   "source": [
    "print(X_train1.shape)\n",
    "print(X_train2.shape)\n",
    "len(y_train)"
   ]
  },
  {
   "cell_type": "markdown",
   "metadata": {},
   "source": [
    "**Model Configuration Parameters**\n",
    "\n",
    "The following parameters are crucial for configuring the Siamese LSTM model:\n",
    "\n",
    "- `embedding_dim`: The dimensionality of the word embeddings. Adjusting this parameter can impact the model's ability to capture semantic relationships.\n",
    "\n",
    "- `lstm_out`: The number of LSTM units in the output layer. This parameter determines the complexity of the LSTM layer and influences the model's learning capacity.\n",
    "\n",
    "- `gradient_clipping_norm`: The normalization value for gradient clipping. This technique helps stabilize training by preventing exploding gradients.\n",
    "\n",
    "- `batch_size`: The number of samples used in each iteration during training. It affects the model's training speed and memory consumption.\n",
    "\n",
    "- `n_epoch`: The number of training epochs. An epoch represents one complete pass through the entire training dataset. Adjust this parameter based on training convergence.\n"
   ]
  },
  {
   "cell_type": "code",
   "execution_count": 31,
   "metadata": {},
   "outputs": [],
   "source": [
    "embedding_dim = 40 #Change to observe effects\n",
    "lstm_out = 256\n",
    "gradient_clipping_norm = 2.50\n",
    "batch_size = 128\n",
    "n_epoch = 40\n"
   ]
  },
  {
   "cell_type": "markdown",
   "metadata": {},
   "source": [
    "**Callback Configuration**\n",
    "\n",
    "The code sets up callbacks to monitor the model during training:\n",
    "\n",
    "- `ReduceLROnPlateau`: This callback dynamically adjusts the learning rate when a monitored metric plateaus. It helps improve convergence and training efficiency.\n",
    "\n",
    "- `EarlyStopping`: Monitors the validation loss and stops training when the loss stops decreasing, preventing overfitting.\n",
    "\n",
    "- `ModelCheckpoint`: Saves the model's weights during training based on the best validation loss. The saved model can be used for further analysis or deployment.\n",
    "\n",
    "These callbacks collectively enhance the training process, ensuring optimal model performance.\n"
   ]
  },
  {
   "cell_type": "code",
   "execution_count": 32,
   "metadata": {},
   "outputs": [],
   "source": [
    "reduce_lr = ReduceLROnPlateau(monitor='val_loss', factor=0.2,\n",
    "                              patience=5, min_lr=0.001)\n",
    "\n",
    "earlystop = EarlyStopping(monitor='val_loss', mode='min', verbose=1, patience=5)\n",
    "\n",
    "modelcheckpoint = ModelCheckpoint(\"weights.{epoch:02d}-{val_loss:.2f}.h5\", monitor='val_loss', verbose=0, save_best_only=True, save_weights_only=False, mode='auto',  save_freq='epoch')\n",
    "\n",
    "callbacks = [earlystop,modelcheckpoint,reduce_lr]"
   ]
  },
  {
   "cell_type": "markdown",
   "metadata": {},
   "source": [
    "**Siamese LSTM Model Overview**\n",
    "\n",
    "This code defines a Siamese LSTM model for paraphrase detection. It comprises:\n",
    "\n",
    "- **Inputs**: Two sequences processed by shared embedding and LSTM layers.\n",
    "\n",
    "- **Outputs**: Manhattan distance measures similarity between LSTM outputs.\n",
    "\n",
    "- **Compilation**: Adadelta optimizer, mean squared error loss, and accuracy metric.\n",
    "\n",
    "- **Summary**: Model architecture is summarized for quick reference.\n",
    "\n",
    "The Siamese LSTM detects paraphrases by learning sentence pair similarity.\n"
   ]
  },
  {
   "cell_type": "code",
   "execution_count": 33,
   "metadata": {},
   "outputs": [
    {
     "name": "stderr",
     "output_type": "stream",
     "text": [
      "WARNING:absl:At this time, the v2.11+ optimizer `tf.keras.optimizers.Adadelta` runs slowly on M1/M2 Macs, please use the legacy Keras optimizer instead, located at `tf.keras.optimizers.legacy.Adadelta`.\n"
     ]
    },
    {
     "name": "stdout",
     "output_type": "stream",
     "text": [
      "Model: \"model_1\"\n",
      "__________________________________________________________________________________________________\n",
      " Layer (type)                Output Shape                 Param #   Connected to                  \n",
      "==================================================================================================\n",
      " input_3 (InputLayer)        [(None, 60)]                 0         []                            \n",
      "                                                                                                  \n",
      " input_4 (InputLayer)        [(None, 60)]                 0         []                            \n",
      "                                                                                                  \n",
      " embedding_1 (Embedding)     (None, 60, 40)               200000    ['input_3[0][0]',             \n",
      "                                                                     'input_4[0][0]']             \n",
      "                                                                                                  \n",
      " lstm_1 (LSTM)               (None, 256)                  304128    ['embedding_1[0][0]',         \n",
      "                                                                     'embedding_1[1][0]']         \n",
      "                                                                                                  \n",
      " lambda_1 (Lambda)           (None, 1)                    0         ['lstm_1[0][0]',              \n",
      "                                                                     'lstm_1[1][0]']              \n",
      "                                                                                                  \n",
      "==================================================================================================\n",
      "Total params: 504128 (1.92 MB)\n",
      "Trainable params: 304128 (1.16 MB)\n",
      "Non-trainable params: 200000 (781.25 KB)\n",
      "__________________________________________________________________________________________________\n",
      "None\n"
     ]
    }
   ],
   "source": [
    "def exponent_neg_manhattan_distance(left, right):\n",
    "    ''' Helper function for the similarity estimate of the LSTMs outputs'''\n",
    "    return K.exp(-K.sum(K.abs(left-right), axis=1, keepdims=True))\n",
    "\n",
    "\n",
    "\n",
    "left_input = Input(shape=(maxlen,), dtype='int32')\n",
    "right_input = Input(shape=(maxlen,), dtype='int32')\n",
    "\n",
    "embedding_layer = Embedding(num_words, embedding_dim, input_length=maxlen, trainable=False)\n",
    "\n",
    "# Embedded version of the inputs\n",
    "encoded_left = embedding_layer(left_input)\n",
    "encoded_right = embedding_layer(right_input)\n",
    "\n",
    "# Since this is a siamese network, both sides share the same LSTM\n",
    "shared_lstm = LSTM(lstm_out)\n",
    "\n",
    "left_output = shared_lstm(encoded_left)\n",
    "right_output = shared_lstm(encoded_right)\n",
    "\n",
    "malstm_distance = Lambda(function=lambda x: exponent_neg_manhattan_distance(x[0], x[1]),output_shape=lambda x: (x[0][0], 1))([left_output, right_output])\n",
    "\n",
    "\n",
    "malstm = Model([left_input, right_input], [malstm_distance])\n",
    "\n",
    "# Adadelta optimizer, with gradient clipping by norm\n",
    "optimizer = Adadelta(clipnorm=gradient_clipping_norm,learning_rate=1.0,rho=0.95)\n",
    "\n",
    "malstm.compile(loss='mean_squared_error', optimizer=optimizer, metrics=['accuracy'])\n",
    "\n",
    "# Use tf.compat.v1.executing_eagerly_outside_functions instead of tf.executing_eagerly_outside_functions\n",
    "# tf.compat.v1.executing_eagerly_outside_functions\n",
    "\n",
    "print(malstm.summary())\n",
    "\n",
    " "
   ]
  },
  {
   "cell_type": "markdown",
   "metadata": {},
   "source": [
    "**Training the Siamese LSTM Model**\n",
    "\n",
    "The code trains the Siamese LSTM model using the fit() function. It takes training inputs (X_train1, X_train2), labels (y_train), and other parameters like batch size, epochs, and validation data.\n",
    "\n",
    "Callbacks, including early stopping, model checkpointing, and learning rate reduction, are employed during training.\n",
    "\n",
    "The training progress is stored in the malstm_trained variable.\n"
   ]
  },
  {
   "cell_type": "code",
   "execution_count": 34,
   "metadata": {},
   "outputs": [
    {
     "name": "stdout",
     "output_type": "stream",
     "text": [
      "Epoch 1/40\n",
      "100/100 [==============================] - 28s 273ms/step - loss: 0.2795 - accuracy: 0.5309 - val_loss: 0.2638 - val_accuracy: 0.5669 - lr: 1.0000\n",
      "Epoch 2/40\n",
      "100/100 [==============================] - 28s 277ms/step - loss: 0.2593 - accuracy: 0.5720 - val_loss: 0.2500 - val_accuracy: 0.6012 - lr: 1.0000\n",
      "Epoch 3/40\n",
      "100/100 [==============================] - 27s 274ms/step - loss: 0.2449 - accuracy: 0.5997 - val_loss: 0.2389 - val_accuracy: 0.6272 - lr: 1.0000\n",
      "Epoch 4/40\n",
      "100/100 [==============================] - 27s 274ms/step - loss: 0.2362 - accuracy: 0.6262 - val_loss: 0.2347 - val_accuracy: 0.6441 - lr: 1.0000\n",
      "Epoch 5/40\n",
      "100/100 [==============================] - 27s 271ms/step - loss: 0.2323 - accuracy: 0.6373 - val_loss: 0.2331 - val_accuracy: 0.6484 - lr: 1.0000\n",
      "Epoch 6/40\n",
      "100/100 [==============================] - 27s 273ms/step - loss: 0.2295 - accuracy: 0.6450 - val_loss: 0.2311 - val_accuracy: 0.6544 - lr: 1.0000\n",
      "Epoch 7/40\n",
      "100/100 [==============================] - 27s 274ms/step - loss: 0.2275 - accuracy: 0.6524 - val_loss: 0.2302 - val_accuracy: 0.6600 - lr: 1.0000\n",
      "Epoch 8/40\n",
      "100/100 [==============================] - 27s 274ms/step - loss: 0.2260 - accuracy: 0.6555 - val_loss: 0.2298 - val_accuracy: 0.6569 - lr: 1.0000\n",
      "Epoch 9/40\n",
      "100/100 [==============================] - 28s 280ms/step - loss: 0.2246 - accuracy: 0.6574 - val_loss: 0.2285 - val_accuracy: 0.6616 - lr: 1.0000\n",
      "Epoch 10/40\n",
      "100/100 [==============================] - 28s 278ms/step - loss: 0.2235 - accuracy: 0.6610 - val_loss: 0.2283 - val_accuracy: 0.6578 - lr: 1.0000\n",
      "Epoch 11/40\n",
      "100/100 [==============================] - 28s 277ms/step - loss: 0.2226 - accuracy: 0.6622 - val_loss: 0.2280 - val_accuracy: 0.6612 - lr: 1.0000\n",
      "Epoch 12/40\n",
      "100/100 [==============================] - 27s 275ms/step - loss: 0.2218 - accuracy: 0.6634 - val_loss: 0.2277 - val_accuracy: 0.6625 - lr: 1.0000\n",
      "Epoch 13/40\n",
      "100/100 [==============================] - 27s 271ms/step - loss: 0.2210 - accuracy: 0.6667 - val_loss: 0.2271 - val_accuracy: 0.6609 - lr: 1.0000\n",
      "Epoch 14/40\n",
      "100/100 [==============================] - 27s 270ms/step - loss: 0.2204 - accuracy: 0.6694 - val_loss: 0.2270 - val_accuracy: 0.6631 - lr: 1.0000\n",
      "Epoch 15/40\n",
      "100/100 [==============================] - 26s 265ms/step - loss: 0.2197 - accuracy: 0.6705 - val_loss: 0.2264 - val_accuracy: 0.6641 - lr: 1.0000\n",
      "Epoch 16/40\n",
      "100/100 [==============================] - 28s 276ms/step - loss: 0.2193 - accuracy: 0.6705 - val_loss: 0.2265 - val_accuracy: 0.6659 - lr: 1.0000\n",
      "Epoch 17/40\n",
      "100/100 [==============================] - 27s 269ms/step - loss: 0.2187 - accuracy: 0.6730 - val_loss: 0.2259 - val_accuracy: 0.6675 - lr: 1.0000\n",
      "Epoch 18/40\n",
      "100/100 [==============================] - 26s 261ms/step - loss: 0.2183 - accuracy: 0.6761 - val_loss: 0.2265 - val_accuracy: 0.6647 - lr: 1.0000\n",
      "Epoch 19/40\n",
      "100/100 [==============================] - 27s 271ms/step - loss: 0.2178 - accuracy: 0.6760 - val_loss: 0.2264 - val_accuracy: 0.6681 - lr: 1.0000\n",
      "Epoch 20/40\n",
      "100/100 [==============================] - 26s 262ms/step - loss: 0.2173 - accuracy: 0.6749 - val_loss: 0.2261 - val_accuracy: 0.6700 - lr: 1.0000\n",
      "Epoch 21/40\n",
      "100/100 [==============================] - 26s 266ms/step - loss: 0.2172 - accuracy: 0.6784 - val_loss: 0.2253 - val_accuracy: 0.6703 - lr: 1.0000\n",
      "Epoch 22/40\n",
      "100/100 [==============================] - 27s 270ms/step - loss: 0.2168 - accuracy: 0.6766 - val_loss: 0.2258 - val_accuracy: 0.6678 - lr: 1.0000\n",
      "Epoch 23/40\n",
      "100/100 [==============================] - 26s 265ms/step - loss: 0.2165 - accuracy: 0.6783 - val_loss: 0.2255 - val_accuracy: 0.6734 - lr: 1.0000\n",
      "Epoch 24/40\n",
      "100/100 [==============================] - 27s 271ms/step - loss: 0.2161 - accuracy: 0.6789 - val_loss: 0.2257 - val_accuracy: 0.6672 - lr: 1.0000\n",
      "Epoch 25/40\n",
      "100/100 [==============================] - 28s 278ms/step - loss: 0.2160 - accuracy: 0.6809 - val_loss: 0.2255 - val_accuracy: 0.6709 - lr: 1.0000\n",
      "Epoch 26/40\n",
      "100/100 [==============================] - 26s 262ms/step - loss: 0.2155 - accuracy: 0.6841 - val_loss: 0.2253 - val_accuracy: 0.6672 - lr: 1.0000\n",
      "Epoch 26: early stopping\n"
     ]
    }
   ],
   "source": [
    "\n",
    "\n",
    "\n",
    "malstm_trained = malstm.fit([X_train1, X_train2], np.array(y_train), batch_size=batch_size, epochs=n_epoch,\n",
    "                            validation_data=([X_val1, X_val2], np.array(y_val)), callbacks=callbacks)"
   ]
  },
  {
   "cell_type": "markdown",
   "metadata": {},
   "source": [
    "**Loading Pre-trained Siamese LSTM Model Weights**\n",
    "\n",
    "The code loads pre-trained weights for a Siamese LSTM model from the file \"weights.01-0.26.h5\". After successful loading, it prints \"Loaded model from disk\".\n"
   ]
  },
  {
   "cell_type": "code",
   "execution_count": 50,
   "metadata": {},
   "outputs": [
    {
     "name": "stdout",
     "output_type": "stream",
     "text": [
      "Loaded model from disk\n"
     ]
    }
   ],
   "source": [
    "malstm.load_weights(\"weights.21-0.23.h5\")\n",
    "print(\"Loaded model from disk\")"
   ]
  },
  {
   "cell_type": "markdown",
   "metadata": {},
   "source": [
    "**Model Evaluation on Validation Data**\n",
    "\n",
    "The code evaluates the Siamese LSTM model on the validation data ([X_val1, X_val2], np.array(y_val)) using the pre-defined loss function. The batch size for evaluation is set to 'batch_size'. The 'earlystop' callback is used during evaluation.\n"
   ]
  },
  {
   "cell_type": "code",
   "execution_count": 51,
   "metadata": {},
   "outputs": [
    {
     "name": "stdout",
     "output_type": "stream",
     "text": [
      "25/25 [==============================] - 3s 118ms/step - loss: 0.2253 - accuracy: 0.6703\n",
      "[0.22529228031635284, 0.6703125238418579]\n"
     ]
    }
   ],
   "source": [
    "loss = malstm.evaluate([X_val1,X_val2], np.array(y_val), batch_size = batch_size, callbacks=[earlystop])\n",
    "print(loss)"
   ]
  },
  {
   "cell_type": "markdown",
   "metadata": {},
   "source": [
    "**Model Prediction on Test Data**\n",
    "\n",
    "The code predicts the output using the trained Siamese LSTM model on the test data ([X_test1, X_test2]). The predictions are stored in the 'y_pred' variable.\n"
   ]
  },
  {
   "cell_type": "code",
   "execution_count": 52,
   "metadata": {},
   "outputs": [
    {
     "name": "stdout",
     "output_type": "stream",
     "text": [
      "147/147 [==============================] - 9s 62ms/step\n"
     ]
    },
    {
     "data": {
      "text/plain": [
       "array([[0.3583119 ],\n",
       "       [0.2132847 ],\n",
       "       [0.40755492],\n",
       "       ...,\n",
       "       [0.30431882],\n",
       "       [0.29335088],\n",
       "       [0.282433  ]], dtype=float32)"
      ]
     },
     "execution_count": 52,
     "metadata": {},
     "output_type": "execute_result"
    }
   ],
   "source": [
    "y_pred = malstm.predict([X_test1,X_test2])\n",
    "y_pred"
   ]
  },
  {
   "cell_type": "markdown",
   "metadata": {},
   "source": [
    "**Thresholding Predictions**\n",
    "\n",
    "The code applies a threshold of 0.5 to the predicted values in 'y_pred', creating binary predictions. The results are stored in 'y_out', where True indicates paraphrase and False indicates non-paraphrase.\n"
   ]
  },
  {
   "cell_type": "code",
   "execution_count": 38,
   "metadata": {},
   "outputs": [
    {
     "data": {
      "text/plain": [
       "array([[False],\n",
       "       [False],\n",
       "       [False],\n",
       "       ...,\n",
       "       [False],\n",
       "       [ True],\n",
       "       [ True]])"
      ]
     },
     "execution_count": 38,
     "metadata": {},
     "output_type": "execute_result"
    }
   ],
   "source": [
    "y_out = y_pred>0.5\n",
    "y_out"
   ]
  },
  {
   "cell_type": "markdown",
   "metadata": {},
   "source": [
    " **Binary Classification:**\n",
    "   \n",
    "   For further analysis, we convert the predicted probabilities into binary classifications using a threshold of 0.5.\n"
   ]
  },
  {
   "cell_type": "code",
   "execution_count": 39,
   "metadata": {},
   "outputs": [],
   "source": [
    "y_out = [1 if p>= .5 else 0 for p in y_pred]\n",
    "\n",
    "# y_out"
   ]
  },
  {
   "cell_type": "code",
   "execution_count": 40,
   "metadata": {},
   "outputs": [
    {
     "data": {
      "text/plain": [
       "1.0"
      ]
     },
     "execution_count": 40,
     "metadata": {},
     "output_type": "execute_result"
    }
   ],
   "source": [
    "np.max(y_pred)"
   ]
  },
  {
   "cell_type": "code",
   "execution_count": 41,
   "metadata": {},
   "outputs": [
    {
     "data": {
      "text/plain": [
       "0.005877836"
      ]
     },
     "execution_count": 41,
     "metadata": {},
     "output_type": "execute_result"
    }
   ],
   "source": [
    "np.min(y_pred)"
   ]
  },
  {
   "cell_type": "code",
   "execution_count": 42,
   "metadata": {},
   "outputs": [
    {
     "data": {
      "text/plain": [
       "4700"
      ]
     },
     "execution_count": 42,
     "metadata": {},
     "output_type": "execute_result"
    }
   ],
   "source": [
    "\n",
    "len(y_pred)"
   ]
  },
  {
   "cell_type": "code",
   "execution_count": 43,
   "metadata": {},
   "outputs": [
    {
     "data": {
      "text/plain": [
       "(4700, 3)"
      ]
     },
     "execution_count": 43,
     "metadata": {},
     "output_type": "execute_result"
    }
   ],
   "source": [
    "test_data.shape"
   ]
  },
  {
   "cell_type": "code",
   "execution_count": 44,
   "metadata": {},
   "outputs": [],
   "source": [
    "\n",
    "\n",
    "\n",
    "test_data['Class'] = y_out"
   ]
  },
  {
   "cell_type": "code",
   "execution_count": 45,
   "metadata": {},
   "outputs": [],
   "source": [
    "test_data_2 = test_data[['ID', 'Class']]"
   ]
  },
  {
   "cell_type": "code",
   "execution_count": 46,
   "metadata": {},
   "outputs": [],
   "source": [
    "\n",
    "\n",
    "\n",
    "\n",
    "test_data_2.index = test_data_2.index + 1"
   ]
  },
  {
   "cell_type": "code",
   "execution_count": 47,
   "metadata": {},
   "outputs": [],
   "source": [
    "test_data_2.to_csv(\"submission_1.csv\",index=False)"
   ]
  },
  {
   "cell_type": "code",
   "execution_count": 48,
   "metadata": {},
   "outputs": [
    {
     "data": {
      "text/html": [
       "<div>\n",
       "<style scoped>\n",
       "    .dataframe tbody tr th:only-of-type {\n",
       "        vertical-align: middle;\n",
       "    }\n",
       "\n",
       "    .dataframe tbody tr th {\n",
       "        vertical-align: top;\n",
       "    }\n",
       "\n",
       "    .dataframe thead th {\n",
       "        text-align: right;\n",
       "    }\n",
       "</style>\n",
       "<table border=\"1\" class=\"dataframe\">\n",
       "  <thead>\n",
       "    <tr style=\"text-align: right;\">\n",
       "      <th></th>\n",
       "      <th>ID</th>\n",
       "      <th>Class</th>\n",
       "    </tr>\n",
       "  </thead>\n",
       "  <tbody>\n",
       "    <tr>\n",
       "      <th>1</th>\n",
       "      <td>16000</td>\n",
       "      <td>0</td>\n",
       "    </tr>\n",
       "    <tr>\n",
       "      <th>2</th>\n",
       "      <td>16001</td>\n",
       "      <td>0</td>\n",
       "    </tr>\n",
       "    <tr>\n",
       "      <th>3</th>\n",
       "      <td>16002</td>\n",
       "      <td>0</td>\n",
       "    </tr>\n",
       "    <tr>\n",
       "      <th>4</th>\n",
       "      <td>16003</td>\n",
       "      <td>1</td>\n",
       "    </tr>\n",
       "    <tr>\n",
       "      <th>5</th>\n",
       "      <td>16004</td>\n",
       "      <td>0</td>\n",
       "    </tr>\n",
       "  </tbody>\n",
       "</table>\n",
       "</div>"
      ],
      "text/plain": [
       "      ID  Class\n",
       "1  16000      0\n",
       "2  16001      0\n",
       "3  16002      0\n",
       "4  16003      1\n",
       "5  16004      0"
      ]
     },
     "execution_count": 48,
     "metadata": {},
     "output_type": "execute_result"
    }
   ],
   "source": [
    "test_data_2.head()"
   ]
  },
  {
   "cell_type": "code",
   "execution_count": 49,
   "metadata": {},
   "outputs": [
    {
     "data": {
      "text/html": [
       "<a download=\"data.csv\" href=\"data:text/csv;base64,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\"target=\"_blank\">Download CSV file</a>"
      ],
      "text/plain": [
       "<IPython.core.display.HTML object>"
      ]
     },
     "execution_count": 49,
     "metadata": {},
     "output_type": "execute_result"
    }
   ],
   "source": [
    "from IPython.display import HTML\n",
    "import pandas as pd\n",
    "import numpy as np\n",
    "import base64\n",
    "def create_download_link(df, title = \"Download CSV file\", filename = \"data.csv\"):\n",
    "  csv = df.to_csv(index=False)\n",
    "  b64 = base64.b64encode(csv.encode())\n",
    "  payload = b64.decode()\n",
    "  html = '<a download=\"{filename}\" href=\"data:text/csv;base64,{payload}\"target=\"_blank\">{title}</a>'\n",
    "  html = html.format(payload=payload,title=title,filename=filename)\n",
    "  return HTML(html)\n",
    "create_download_link(test_data_2)"
   ]
  },
  {
   "cell_type": "code",
   "execution_count": null,
   "metadata": {},
   "outputs": [],
   "source": []
  }
 ],
 "metadata": {
  "kernelspec": {
   "display_name": "Python 3 (ipykernel)",
   "language": "python",
   "name": "python3"
  },
  "language_info": {
   "codemirror_mode": {
    "name": "ipython",
    "version": 3
   },
   "file_extension": ".py",
   "mimetype": "text/x-python",
   "name": "python",
   "nbconvert_exporter": "python",
   "pygments_lexer": "ipython3",
   "version": "3.11.5"
  }
 },
 "nbformat": 4,
 "nbformat_minor": 4
}
